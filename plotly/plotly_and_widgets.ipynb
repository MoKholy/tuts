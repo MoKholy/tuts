{
 "cells": [
  {
   "cell_type": "code",
   "execution_count": 3,
   "metadata": {},
   "outputs": [],
   "source": [
    "import plotly.express as px\n",
    "import plotly.graph_objects as go \n",
    "\n",
    "import ipywidgets as wg\n",
    "from IPython.display import display, HTML\n",
    "\n",
    "import pandas as pd\n",
    "import numpy as np\n",
    "\n",
    "import plotly.figure_factory as ff\n",
    "from plotly.colors import n_colors\n",
    "from plotly.subplots import make_subplots\n",
    "\n",
    "import warnings\n",
    "warnings.filterwarnings('ignore')\n",
    "import scipy\n"
   ]
  },
  {
   "cell_type": "markdown",
   "metadata": {},
   "source": [
    "# Simple example of using both"
   ]
  },
  {
   "cell_type": "code",
   "execution_count": null,
   "metadata": {},
   "outputs": [],
   "source": [
    "x = np.linspace(0, np.pi, 1000)\n",
    "\n",
    "layout = go.Layout(\n",
    "    title = \"SIMPLE EXAMPLE\",           # fig.layout.title = \"SIMPLE EXAMPLE\"\n",
    "    yaxis = {\"title\": \"volts\"},         # fig.layout.yaxis.title = \"volts\"\n",
    "    xaxis = {\"title\": \"nanoseconds\"},\n",
    "    width = 500,\n",
    "    height = 300,\n",
    "    margin = dict(l=40,r=40,t=60,b=40)\n",
    ")\n",
    "\n",
    "@wg.interact\n",
    "def update_plot(signals = wg.SelectMultiple(options=list(range(6)), value=(0, ), description = \"Bessel Order\"), \n",
    "                freq = wg.FloatSlider(min=1, max=20, value=1, desription=\"Freq\")):\n",
    "    \n",
    "    fig = go.Figure(layout = layout)\n",
    "    \n",
    "    for s in signals:\n",
    "        \n",
    "        trace = go.Scatter(\n",
    "            x = x,\n",
    "            y = scipy.special.jv(s, freq * x), \n",
    "            mode = \"lines\",\n",
    "            name = f\"Bessel {s}\", \n",
    "        )\n",
    "        \n",
    "        fig.add_traces(trace)\n",
    "\n",
    "    fig.show()\n"
   ]
  },
  {
   "cell_type": "code",
   "execution_count": 5,
   "metadata": {},
   "outputs": [
    {
     "data": {
      "application/vnd.jupyter.widget-view+json": {
       "model_id": "5b43f5b5ef5d4cfca48485ca7a2bc0d5",
       "version_major": 2,
       "version_minor": 0
      },
      "text/plain": [
       "VBox(children=(HBox(children=(VBox(children=(Checkbox(value=True, description='Date: '), IntSlider(value=1, co…"
      ]
     },
     "execution_count": 5,
     "metadata": {},
     "output_type": "execute_result"
    }
   ],
   "source": [
    "#This introduces the go.FigureWidget, object which has identical syntax \n",
    "# to the Plotly go.Figure, but it is also treated like a \n",
    "# widget in the ipywidgets library \n",
    "# (i.e. you don't need to create an output widget to \n",
    "# put the graph in; the graph itself is an output widget).\n",
    "\n",
    "#This also uses the fig.batch_update() method. \n",
    "# This is a good way to update FigureWidgets in your functions. \n",
    "# It sends all the updates at the same time, rather than \n",
    "# one at a time (which can create flickering).\n",
    "\n",
    "#P.S. — This example is probably the most \n",
    "# complicated in this whole notebook, so don't worry \n",
    "# if it seems hard to interpret at first.\n",
    "\n",
    "df = pd.read_csv('https://raw.githubusercontent.com/yankev/testing/master/datasets/nycflights.csv')\n",
    "df = df.drop(df.columns[[0]], axis=1)\n",
    "\n",
    "month_widget = wg.IntSlider(min=1, max=12, step=1, value=1, description='Month:', continuous_update=False)\n",
    "use_date_widget = wg.Checkbox(value=True, description='Date: ')\n",
    "airline_widget = wg.Dropdown(description='Airline:   ', options=df['carrier'].unique(), value='DL')\n",
    "origin_widget = wg.Dropdown(description='Origin Airport:', options=df['origin'].unique(), value='LGA')\n",
    "\n",
    "trace1 = go.Histogram(x=df['arr_delay'], opacity=0.75, name='Arrival Delays')\n",
    "trace2 = go.Histogram(x=df['dep_delay'], opacity=0.75, name='Departure Delays')\n",
    "data2 = [trace1, trace2]\n",
    "\n",
    "layout2 = go.Layout(title='NYC FlightDatabase', \n",
    "                    barmode='overlay', \n",
    "                    xaxis={\"title\":\"Delay in Minutes\"}, \n",
    "                    yaxis={\"title\":\"Number of Delays\"})\n",
    "\n",
    "fig_hist = go.FigureWidget(data=data2, layout=layout2)\n",
    "\n",
    "\n",
    "def update_histogram(change):\n",
    "\n",
    "    filter_list = (df[\"carrier\"] == airline_widget.value) & (df[\"origin\"] == origin_widget.value)\n",
    "    if use_date_widget.value:\n",
    "        filter_list &= (df['month'] == month_widget.value)\n",
    "    temp_df = df[filter_list]\n",
    "\n",
    "    with fig_hist.batch_update():\n",
    "        fig_hist.data[0].x = temp_df['arr_delay']\n",
    "        fig_hist.data[1].x = temp_df['dep_delay']\n",
    "\n",
    "update_histogram(\"unimportant text\") # useful for triggering first response\n",
    "\n",
    "for widget in [airline_widget, origin_widget, month_widget, use_date_widget]:\n",
    "    widget.observe(update_histogram, names=\"value\")\n",
    "\n",
    "widget_box_1 = wg.VBox([use_date_widget, month_widget])\n",
    "widget_box_2 = wg.VBox([airline_widget, origin_widget])\n",
    "widget_box_main = wg.HBox([widget_box_1, widget_box_2])\n",
    "\n",
    "wg.VBox([widget_box_main, fig_hist])\n"
   ]
  },
  {
   "cell_type": "markdown",
   "metadata": {},
   "source": [
    "### Query tables"
   ]
  },
  {
   "cell_type": "code",
   "execution_count": 6,
   "metadata": {},
   "outputs": [
    {
     "data": {
      "application/vnd.jupyter.widget-view+json": {
       "model_id": "a4f30ffaa1474819bd37325dffb87a03",
       "version_major": 2,
       "version_minor": 0
      },
      "text/plain": [
       "VBox(children=(Text(value='', description='Query:', layout=Layout(width='75%'), placeholder='Type something, t…"
      ]
     },
     "metadata": {},
     "output_type": "display_data"
    }
   ],
   "source": [
    "df = pd.read_csv('https://raw.githubusercontent.com/plotly/datasets/master/2014_usa_states.csv')\n",
    "\n",
    "fig = go.FigureWidget(\n",
    "    data=[\n",
    "        go.Table(\n",
    "            header={\"values\": list(df.columns),\n",
    "                    \"fill_color\": 'paleturquoise',\n",
    "                    \"align\": 'left'},\n",
    "            cells={\"values\": [df.Rank, df.State, df.Postal, df.Population],\n",
    "                   \"fill_color\": 'lavender',\n",
    "                   \"align\": 'left'}\n",
    "        )\n",
    "    ],\n",
    "    layout=go.Layout(margin=dict(l=40,r=40,t=40,b=40))\n",
    ")\n",
    "\n",
    "label_widget = wg.HTML()\n",
    "\n",
    "def handle_submit(sender):\n",
    "    query = sender.value\n",
    "    try:\n",
    "        df_reduced = df if query == \"\" else df.query(query)\n",
    "        label_widget.value = \"\"\n",
    "    except:\n",
    "        label_widget.value = f\"\"\"{repr(query)} is invalid query. Examples: \n",
    "        <code><b>State=='Alabama'</b></code>, or <code><b>Postal<'MM' and Population<1000000</b></code>\"\"\"\n",
    "        df_reduced = pd.DataFrame(columns=df.columns)\n",
    "    fig.data[0].cells.values = [df_reduced.Rank, df_reduced.State, df_reduced.Postal, df_reduced.Population]\n",
    "        \n",
    "text_widget = wg.Text(\n",
    "    value='',\n",
    "    placeholder='Type something, then press Enter!',\n",
    "    description='Query:',\n",
    "    layout=wg.Layout(width=\"75%\")\n",
    ")\n",
    "        \n",
    "text_widget.on_submit(handle_submit)\n",
    "\n",
    "display(wg.VBox([text_widget, label_widget, fig]))\n"
   ]
  },
  {
   "cell_type": "markdown",
   "metadata": {},
   "source": [
    "### Tabs"
   ]
  },
  {
   "cell_type": "code",
   "execution_count": 7,
   "metadata": {},
   "outputs": [],
   "source": [
    "df0 = pd.read_csv('https://raw.githubusercontent.com/plotly/datasets/master/2014_usa_states.csv')\n",
    "\n",
    "fig_table = go.FigureWidget(\n",
    "    data=[\n",
    "        go.Table(\n",
    "            header={\"values\": list(df0.columns),\n",
    "                    \"fill_color\": 'paleturquoise',\n",
    "                    \"align\": 'left'},\n",
    "            cells={\"values\": [df0[col] for col in df0.columns],\n",
    "                   \"fill_color\": 'lavender',\n",
    "                   \"align\": 'left'}\n",
    "        )\n",
    "    ],\n",
    "    layout=go.Layout(margin=dict(l=40,r=40,t=40,b=40))\n",
    ")\n",
    "\n",
    "label_widget = wg.HTML()\n",
    "\n",
    "def handle_submit(sender):\n",
    "    query = sender.value\n",
    "    try:\n",
    "        df0_reduced = df0 if query == \"\" else df0.query(query)\n",
    "        label_widget.value = \"\"\n",
    "    except:\n",
    "        label_widget.value = f\"\"\"{repr(query)} is invalid query. Examples: \n",
    "        <code><b>State=='Alabama'</b></code>, or <code><b>Postal<'MM' and Population<1000000</b></code>\"\"\"\n",
    "        df0_reduced = pd.DataFrame(columns=df0.columns)\n",
    "    fig_table.data[0].cells.values = [df0_reduced[col] for col in df0.columns]\n",
    "        \n",
    "text_widget = wg.Text(\n",
    "    value='',\n",
    "    placeholder='Type something, then press Enter!',\n",
    "    description='Query:',\n",
    "    layout=wg.Layout(width=\"75%\")\n",
    ")\n",
    "\n",
    "text_widget.on_submit(handle_submit)\n",
    "        \n",
    "\n",
    "    \n",
    "df = pd.read_csv('https://raw.githubusercontent.com/yankev/testing/master/datasets/nycflights.csv')\n",
    "df = df.drop(df.columns[[0]], axis=1)\n",
    "\n",
    "month_widget = wg.IntSlider(min=1, max=12, step=1, value=1, description='Month:', continuous_update=False)\n",
    "use_date_widget = wg.Checkbox(value=True, description='Date: ')\n",
    "airline_widget = wg.Dropdown(description='Airline:   ', options=df['carrier'].unique(), value='DL')\n",
    "origin_widget = wg.Dropdown(description='Origin Airport:', options=df['origin'].unique(), value='LGA')\n",
    "\n",
    "trace1 = go.Histogram(x=df['arr_delay'], opacity=0.75, name='Arrival Delays')\n",
    "trace2 = go.Histogram(x=df['dep_delay'], opacity=0.75, name='Departure Delays')\n",
    "data2 = [trace1, trace2]\n",
    "\n",
    "layout2 = go.Layout(title='NYC FlightDatabase', \n",
    "                    barmode='overlay', \n",
    "                    xaxis={\"title\":\"Delay in Minutes\"}, \n",
    "                    yaxis={\"title\":\"Number of Delays\"})\n",
    "\n",
    "fig_hist = go.FigureWidget(data=data2, layout=layout2)\n",
    "\n",
    "\n",
    "def update_histogram(change):\n",
    "\n",
    "    filter_list = (df[\"carrier\"] == airline_widget.value) & (df[\"origin\"] == origin_widget.value)\n",
    "    if use_date_widget.value:\n",
    "        filter_list &= (df['month'] == month_widget.value)\n",
    "    temp_df = df[filter_list]\n",
    "\n",
    "    with fig_hist.batch_update():\n",
    "        fig_hist.data[0].x = temp_df['arr_delay']\n",
    "        fig_hist.data[1].x = temp_df['dep_delay']\n",
    "        \n",
    "update_histogram(\"unimportant text\") # useful for triggering first response\n",
    "\n",
    "\n",
    "\n",
    "for widget in [airline_widget, origin_widget, month_widget, use_date_widget]:\n",
    "    widget.observe(update_histogram, names=\"value\")\n",
    "\n",
    "box_layout = wg.Layout(\n",
    "    border='solid 1px gray',\n",
    "    margin='0px 10px 10px 0px',\n",
    "    padding='5px 5px 5px 5px')\n",
    "    \n",
    "children = [\n",
    "    wg.VBox([text_widget, label_widget, fig_table]), \n",
    "    wg.VBox([\n",
    "        wg.HBox([\n",
    "            wg.VBox([use_date_widget, month_widget], layout=box_layout), \n",
    "            wg.VBox([airline_widget, origin_widget], layout=box_layout)\n",
    "        ]), \n",
    "        fig_hist\n",
    "    ])\n",
    "]\n",
    "\n",
    "tab = wg.Tab(children = children)\n",
    "tab.set_title(0, 'box #1')\n",
    "tab.set_title(1, 'box #2')\n"
   ]
  },
  {
   "cell_type": "code",
   "execution_count": 8,
   "metadata": {},
   "outputs": [
    {
     "data": {
      "application/vnd.jupyter.widget-view+json": {
       "model_id": "c69baa09e6164645971159169c6b2597",
       "version_major": 2,
       "version_minor": 0
      },
      "text/plain": [
       "Tab(children=(VBox(children=(Text(value='', description='Query:', layout=Layout(width='75%'), placeholder='Typ…"
      ]
     },
     "metadata": {},
     "output_type": "display_data"
    }
   ],
   "source": [
    "display(tab)\n"
   ]
  }
 ],
 "metadata": {
  "kernelspec": {
   "display_name": "torch",
   "language": "python",
   "name": "python3"
  },
  "language_info": {
   "codemirror_mode": {
    "name": "ipython",
    "version": 3
   },
   "file_extension": ".py",
   "mimetype": "text/x-python",
   "name": "python",
   "nbconvert_exporter": "python",
   "pygments_lexer": "ipython3",
   "version": "3.9.19"
  }
 },
 "nbformat": 4,
 "nbformat_minor": 2
}
