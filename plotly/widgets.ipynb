{
 "cells": [
  {
   "cell_type": "code",
   "execution_count": 2,
   "metadata": {},
   "outputs": [],
   "source": [
    "import plotly.express as px\n",
    "import plotly.graph_objects as go \n",
    "\n",
    "import ipywidgets as wg\n",
    "from IPython.display import display, HTML\n",
    "\n",
    "import pandas as pd\n",
    "import numpy as np\n",
    "\n",
    "import plotly.figure_factory as ff\n",
    "from plotly.colors import n_colors\n",
    "from plotly.subplots import make_subplots\n",
    "\n",
    "import warnings\n",
    "warnings.filterwarnings('ignore')\n"
   ]
  },
  {
   "cell_type": "markdown",
   "metadata": {},
   "source": [
    "# Simple widgets"
   ]
  },
  {
   "cell_type": "code",
   "execution_count": 7,
   "metadata": {},
   "outputs": [
    {
     "data": {
      "application/vnd.jupyter.widget-view+json": {
       "model_id": "59fb501903d143bbab0007fc8d0027e4",
       "version_major": 2,
       "version_minor": 0
      },
      "text/plain": [
       "IntSlider(value=0)"
      ]
     },
     "execution_count": 7,
     "metadata": {},
     "output_type": "execute_result"
    }
   ],
   "source": [
    "w = wg.IntSlider()\n",
    "w\n"
   ]
  },
  {
   "cell_type": "code",
   "execution_count": 4,
   "metadata": {},
   "outputs": [
    {
     "data": {
      "application/vnd.jupyter.widget-view+json": {
       "model_id": "4515b8615c57456c931189d6283a8ad4",
       "version_major": 2,
       "version_minor": 0
      },
      "text/plain": [
       "IntSlider(value=0)"
      ]
     },
     "metadata": {},
     "output_type": "display_data"
    }
   ],
   "source": [
    "display(w)\n"
   ]
  },
  {
   "cell_type": "code",
   "execution_count": 6,
   "metadata": {},
   "outputs": [],
   "source": [
    "w.close()\n",
    "# closes widget\n"
   ]
  },
  {
   "cell_type": "code",
   "execution_count": 9,
   "metadata": {},
   "outputs": [],
   "source": [
    "w.value = 10\n",
    "\n",
    "# changes widget value even in other cells\n"
   ]
  },
  {
   "cell_type": "code",
   "execution_count": 10,
   "metadata": {},
   "outputs": [
    {
     "data": {
      "text/plain": [
       "['_dom_classes',\n",
       " '_model_module',\n",
       " '_model_module_version',\n",
       " '_model_name',\n",
       " '_view_count',\n",
       " '_view_module',\n",
       " '_view_module_version',\n",
       " '_view_name',\n",
       " 'behavior',\n",
       " 'continuous_update',\n",
       " 'description',\n",
       " 'description_allow_html',\n",
       " 'disabled',\n",
       " 'layout',\n",
       " 'max',\n",
       " 'min',\n",
       " 'orientation',\n",
       " 'readout',\n",
       " 'readout_format',\n",
       " 'step',\n",
       " 'style',\n",
       " 'tabbable',\n",
       " 'tooltip',\n",
       " 'value']"
      ]
     },
     "execution_count": 10,
     "metadata": {},
     "output_type": "execute_result"
    }
   ],
   "source": [
    "w.keys\n",
    "# value (for setting the initial value of the widget)\n",
    "# min and max (for various number-selection widgets)\n",
    "# description (some short text to the left of the widget, explaining what it does)\n",
    "# options (for various types of selection widgets)\n",
    "# layout and style (optional parameters for tweaking appearance)\n"
   ]
  },
  {
   "cell_type": "code",
   "execution_count": 11,
   "metadata": {},
   "outputs": [
    {
     "data": {
      "application/vnd.jupyter.widget-view+json": {
       "model_id": "123258e59cab40838383394bda25309e",
       "version_major": 2,
       "version_minor": 0
      },
      "text/plain": [
       "IntSlider(value=5, description='Slider: ', max=10, min=1)"
      ]
     },
     "execution_count": 11,
     "metadata": {},
     "output_type": "execute_result"
    }
   ],
   "source": [
    "wg.IntSlider(value=5, min=1, max=10, description=\"Slider: \")\n"
   ]
  },
  {
   "cell_type": "code",
   "execution_count": 12,
   "metadata": {},
   "outputs": [
    {
     "data": {
      "text/plain": [
       "['Accordion',\n",
       " 'Audio',\n",
       " 'Axis',\n",
       " 'BaseFigureWidget',\n",
       " 'BoundedFloatText',\n",
       " 'BoundedIntText',\n",
       " 'Box',\n",
       " 'Button',\n",
       " 'Button',\n",
       " 'ButtonStyle',\n",
       " 'Checkbox',\n",
       " 'CheckboxStyle',\n",
       " 'ColorPicker',\n",
       " 'ColorsInput',\n",
       " 'Combobox',\n",
       " 'Controller',\n",
       " 'DatePicker',\n",
       " 'DatetimePicker',\n",
       " 'DescriptionStyle',\n",
       " 'DirectionalLink']"
      ]
     },
     "execution_count": 12,
     "metadata": {},
     "output_type": "execute_result"
    }
   ],
   "source": [
    "# all widgets\n",
    "widget_list = sorted([i[1].__name__ for i in wg.Widget.widget_types.items()])\n",
    "\n",
    "widget_list[:20]\n"
   ]
  },
  {
   "cell_type": "markdown",
   "metadata": {},
   "source": [
    "# Widget types"
   ]
  },
  {
   "cell_type": "markdown",
   "metadata": {},
   "source": [
    "## Slider"
   ]
  },
  {
   "cell_type": "code",
   "execution_count": 16,
   "metadata": {},
   "outputs": [
    {
     "data": {
      "application/vnd.jupyter.widget-view+json": {
       "model_id": "7db5521553e44576837bb0eb83c3cd7d",
       "version_major": 2,
       "version_minor": 0
      },
      "text/plain": [
       "FloatLogSlider(value=1.0, base=2.0, description='Log Slider', max=8.0, min=-2.0, step=1.0)"
      ]
     },
     "execution_count": 16,
     "metadata": {},
     "output_type": "execute_result"
    }
   ],
   "source": [
    "w = wg.FloatSlider(\n",
    "    value = 7.5,\n",
    "    min = .0,\n",
    "    max = 100.0,\n",
    "    step = .2,\n",
    "    description = \"Slider: \",\n",
    "    orientation = \"horizontal\",\n",
    "    readout_format = \".2f\"\n",
    ")\n",
    "\n",
    "# display(w)\n",
    "\n",
    "# range slider\n",
    "wg.IntRangeSlider(\n",
    "    value=[5, 7],\n",
    "    min=0,\n",
    "    max=10,\n",
    "    step=1,\n",
    "    description = 'Test:',\n",
    "    orientation = 'horizontal',\n",
    "    readout = True,\n",
    "    readout_format = 'd',\n",
    ")\n",
    "\n",
    "# log slider\n",
    "wg.FloatLogSlider(\n",
    "    base=2,\n",
    "    min=-2,\n",
    "    max=8,\n",
    "    step=1, # exponent step\n",
    "    description='Log Slider'\n",
    ")\n"
   ]
  },
  {
   "cell_type": "markdown",
   "metadata": {},
   "source": [
    "## Text widgets"
   ]
  },
  {
   "cell_type": "code",
   "execution_count": 19,
   "metadata": {},
   "outputs": [
    {
     "data": {
      "application/vnd.jupyter.widget-view+json": {
       "model_id": "b6eea2dbdbd04071bb4fbac5ff559f9a",
       "version_major": 2,
       "version_minor": 0
      },
      "text/plain": [
       "Textarea(value='Hello World', description='String:', placeholder='Type something')"
      ]
     },
     "execution_count": 19,
     "metadata": {},
     "output_type": "execute_result"
    }
   ],
   "source": [
    "wg.Text(\n",
    "    value='Hello World',\n",
    "    placeholder='Type something',\n",
    "    description='String:',\n",
    "    disabled=False,\n",
    ")\n",
    "\n",
    "# text area\n",
    "\n",
    "wg.Textarea(\n",
    "    value='Hello World',\n",
    "    placeholder='Type something',\n",
    "    description='String:',\n",
    "    disabled=False\n",
    ")\n"
   ]
  },
  {
   "cell_type": "code",
   "execution_count": 20,
   "metadata": {},
   "outputs": [
    {
     "data": {
      "application/vnd.jupyter.widget-view+json": {
       "model_id": "fdd7205e005f4ae0a1358e773b90b6ec",
       "version_major": 2,
       "version_minor": 0
      },
      "text/plain": [
       "BoundedFloatText(value=7.5, description='Text:', max=10.0, step=0.1)"
      ]
     },
     "execution_count": 20,
     "metadata": {},
     "output_type": "execute_result"
    }
   ],
   "source": [
    "# float text\n",
    "wg.BoundedFloatText(\n",
    "    value=7.5,\n",
    "    min=0,\n",
    "    max=10.0,\n",
    "    step=0.1,\n",
    "    description='Text:',\n",
    ")\n"
   ]
  },
  {
   "cell_type": "code",
   "execution_count": 21,
   "metadata": {},
   "outputs": [
    {
     "data": {
      "application/vnd.jupyter.widget-view+json": {
       "model_id": "45944eb3ff974c8990871b89c533b151",
       "version_major": 2,
       "version_minor": 0
      },
      "text/plain": [
       "FloatText(value=7.5, description='Any:')"
      ]
     },
     "execution_count": 21,
     "metadata": {},
     "output_type": "execute_result"
    }
   ],
   "source": [
    "wg.FloatText(\n",
    "    value=7.5,\n",
    "    description='Any:',\n",
    ")\n"
   ]
  },
  {
   "cell_type": "markdown",
   "metadata": {},
   "source": [
    "## Selection widgets"
   ]
  },
  {
   "cell_type": "code",
   "execution_count": 22,
   "metadata": {},
   "outputs": [
    {
     "data": {
      "application/vnd.jupyter.widget-view+json": {
       "model_id": "06ffe658020e4efda6f9090160b92eb5",
       "version_major": 2,
       "version_minor": 0
      },
      "text/plain": [
       "Dropdown(description='Number:', index=1, options=(('One', 1), ('Two', 2), ('Three', 3)), value=2)"
      ]
     },
     "execution_count": 22,
     "metadata": {},
     "output_type": "execute_result"
    }
   ],
   "source": [
    "wg.Dropdown(\n",
    "    options=[('One', 1), ('Two', 2), ('Three', 3)],\n",
    "    # or just ['1', '2', '3'] if you want values and labels to be same\n",
    "    value=2,\n",
    "    description='Number:',\n",
    ")\n"
   ]
  },
  {
   "cell_type": "code",
   "execution_count": 23,
   "metadata": {},
   "outputs": [
    {
     "data": {
      "application/vnd.jupyter.widget-view+json": {
       "model_id": "a97ddcd84ee0449488f010e1a02e2fea",
       "version_major": 2,
       "version_minor": 0
      },
      "text/plain": [
       "SelectMultiple(description='Fruits', options=('Apples', 'Oranges', 'Pears'), value=())"
      ]
     },
     "execution_count": 23,
     "metadata": {},
     "output_type": "execute_result"
    }
   ],
   "source": [
    "# multi select\n",
    "wg.SelectMultiple(\n",
    "    options=['Apples', 'Oranges', 'Pears'],\n",
    "    description='Fruits'\n",
    ")\n"
   ]
  },
  {
   "cell_type": "code",
   "execution_count": 24,
   "metadata": {},
   "outputs": [
    {
     "data": {
      "application/vnd.jupyter.widget-view+json": {
       "model_id": "c0f4b7d0f8e040d4b0bba78dc7ddf992",
       "version_major": 2,
       "version_minor": 0
      },
      "text/plain": [
       "Select(description='OS:', index=2, options=('Linux', 'Windows', 'OSX'), rows=4, value='OSX')"
      ]
     },
     "execution_count": 24,
     "metadata": {},
     "output_type": "execute_result"
    }
   ],
   "source": [
    "wg.Select(\n",
    "    options=['Linux', 'Windows', 'OSX'],\n",
    "    value='OSX',\n",
    "    rows=4,\n",
    "    description='OS:',\n",
    ")\n"
   ]
  },
  {
   "cell_type": "code",
   "execution_count": 25,
   "metadata": {},
   "outputs": [
    {
     "data": {
      "application/vnd.jupyter.widget-view+json": {
       "model_id": "fc30741b17ee4156ada70b0ce9f30764",
       "version_major": 2,
       "version_minor": 0
      },
      "text/plain": [
       "RadioButtons(description='Your chosen pizza topping...', index=1, options=('pepperoni', 'pineapple', 'anchovie…"
      ]
     },
     "execution_count": 25,
     "metadata": {},
     "output_type": "execute_result"
    }
   ],
   "source": [
    "# radio buttons\n",
    "wg.RadioButtons(\n",
    "    options=['pepperoni', 'pineapple', 'anchovies'],\n",
    "    value='pineapple',\n",
    "    description='Your chosen pizza topping...',\n",
    "    style={'description_width': 'initial'}, # this line makes the description fit without being cropped\n",
    ")\n"
   ]
  },
  {
   "cell_type": "code",
   "execution_count": 26,
   "metadata": {},
   "outputs": [
    {
     "data": {
      "application/vnd.jupyter.widget-view+json": {
       "model_id": "52d6f5cab3b642e68f130e42865dd72b",
       "version_major": 2,
       "version_minor": 0
      },
      "text/plain": [
       "ToggleButtons(description='Speed:', options=('Slow', 'Regular', 'Fast'), tooltip='Description', value='Slow')"
      ]
     },
     "execution_count": 26,
     "metadata": {},
     "output_type": "execute_result"
    }
   ],
   "source": [
    "# toggle button\n",
    "wg.ToggleButtons(\n",
    "    options=['Slow', 'Regular', 'Fast'],\n",
    "    description='Speed:',\n",
    "    button_style='', # 'success', 'info', 'warning', 'danger' or '' (this changes the button colors)\n",
    "    tooltip='Description',\n",
    ")\n"
   ]
  },
  {
   "cell_type": "markdown",
   "metadata": {},
   "source": [
    "## date picker"
   ]
  },
  {
   "cell_type": "code",
   "execution_count": 29,
   "metadata": {},
   "outputs": [
    {
     "data": {
      "application/vnd.jupyter.widget-view+json": {
       "model_id": "4be19d32bcff4541ab181d1952e506ba",
       "version_major": 2,
       "version_minor": 0
      },
      "text/plain": [
       "DatePicker(value=datetime.date(2019, 12, 31), step=1)"
      ]
     },
     "execution_count": 29,
     "metadata": {},
     "output_type": "execute_result"
    }
   ],
   "source": [
    "import datetime\n",
    "wg.DatePicker(value=datetime.date(2019, 12, 31))\n"
   ]
  },
  {
   "cell_type": "markdown",
   "metadata": {},
   "source": [
    "## color picker"
   ]
  },
  {
   "cell_type": "code",
   "execution_count": 30,
   "metadata": {},
   "outputs": [
    {
     "data": {
      "application/vnd.jupyter.widget-view+json": {
       "model_id": "50f5869da593457fbc0eda09c94acbfb",
       "version_major": 2,
       "version_minor": 0
      },
      "text/plain": [
       "ColorPicker(value='blue', description='Pick a color')"
      ]
     },
     "execution_count": 30,
     "metadata": {},
     "output_type": "execute_result"
    }
   ],
   "source": [
    "wg.ColorPicker(\n",
    "    concise=False,\n",
    "    description='Pick a color',\n",
    "    value='blue',\n",
    "    disabled=False\n",
    ")\n"
   ]
  },
  {
   "cell_type": "markdown",
   "metadata": {},
   "source": [
    "## Boolean widgets"
   ]
  },
  {
   "cell_type": "code",
   "execution_count": 31,
   "metadata": {},
   "outputs": [
    {
     "data": {
      "application/vnd.jupyter.widget-view+json": {
       "model_id": "9e726477a0b145b080725dfda2301fdc",
       "version_major": 2,
       "version_minor": 0
      },
      "text/plain": [
       "ToggleButton(value=False, button_style='warning', description='Click me', icon='check')"
      ]
     },
     "execution_count": 31,
     "metadata": {},
     "output_type": "execute_result"
    }
   ],
   "source": [
    "wg.ToggleButton(\n",
    "    value=False,\n",
    "    description='Click me',\n",
    "    button_style='warning', # 'success', 'info', 'warning', 'danger' or ''\n",
    "    icon='check'\n",
    ")\n"
   ]
  },
  {
   "cell_type": "code",
   "execution_count": 32,
   "metadata": {},
   "outputs": [
    {
     "data": {
      "application/vnd.jupyter.widget-view+json": {
       "model_id": "44a8522882924cfaa2f486c20e029ef2",
       "version_major": 2,
       "version_minor": 0
      },
      "text/plain": [
       "Checkbox(value=True, description='Check me', indent=False)"
      ]
     },
     "execution_count": 32,
     "metadata": {},
     "output_type": "execute_result"
    }
   ],
   "source": [
    "# checkbox\n",
    "wg.Checkbox(\n",
    "    value=True,\n",
    "    description='Check me',\n",
    "    indent=False\n",
    ")\n"
   ]
  },
  {
   "cell_type": "markdown",
   "metadata": {},
   "source": [
    "## Buttons\n",
    "- dont have value\n",
    "- you assign some callable function"
   ]
  },
  {
   "cell_type": "code",
   "execution_count": 33,
   "metadata": {},
   "outputs": [
    {
     "data": {
      "application/vnd.jupyter.widget-view+json": {
       "model_id": "29184e92054a441ca733ad6c04403d65",
       "version_major": 2,
       "version_minor": 0
      },
      "text/plain": [
       "Button(description='Click Me!', style=ButtonStyle())"
      ]
     },
     "execution_count": 33,
     "metadata": {},
     "output_type": "execute_result"
    },
    {
     "name": "stdout",
     "output_type": "stream",
     "text": [
      "Button clicked.\n"
     ]
    }
   ],
   "source": [
    "button = wg.Button(description=\"Click Me!\")\n",
    "\n",
    "def on_button_clicked(b):\n",
    "    print(\"Button clicked.\")\n",
    "\n",
    "button.on_click(on_button_clicked)\n",
    "\n",
    "button\n"
   ]
  },
  {
   "cell_type": "markdown",
   "metadata": {},
   "source": [
    "## Labels and html\n",
    "- These are 2 easy ways of having widgets show specific text. Neither of them are interactive.\n",
    "\n"
   ]
  },
  {
   "cell_type": "code",
   "execution_count": 34,
   "metadata": {},
   "outputs": [
    {
     "data": {
      "application/vnd.jupyter.widget-view+json": {
       "model_id": "50054c7784174612befc70e4748153c1",
       "version_major": 2,
       "version_minor": 0
      },
      "text/plain": [
       "VBox(children=(Label(value='IntSlider with a long title'), FloatSlider(value=7.5)))"
      ]
     },
     "execution_count": 34,
     "metadata": {},
     "output_type": "execute_result"
    }
   ],
   "source": [
    "layout=wg.Layout()\n",
    "\n",
    "wg.VBox(\n",
    "    children=[\n",
    "        wg.Label(value=\"IntSlider with a long title\"), \n",
    "        wg.FloatSlider(value=7.5, min=0.0, max = 100.0)\n",
    "    ])\n"
   ]
  },
  {
   "cell_type": "code",
   "execution_count": 35,
   "metadata": {},
   "outputs": [
    {
     "data": {
      "application/vnd.jupyter.widget-view+json": {
       "model_id": "38c14779c4954410823bce04fc19ef27",
       "version_major": 2,
       "version_minor": 0
      },
      "text/plain": [
       "Label(value='$$\\\\frac{n!}{k!(n-k)!} = \\\\binom{n}{k}$$', description='Some LaTeX', placeholder='Some LaTeX')"
      ]
     },
     "execution_count": 35,
     "metadata": {},
     "output_type": "execute_result"
    }
   ],
   "source": [
    "wg.Label(\n",
    "    value=\"$$\\\\frac{n!}{k!(n-k)!} = \\\\binom{n}{k}$$\",\n",
    "    placeholder='Some LaTeX',\n",
    "    description='Some LaTeX',\n",
    "    disabled=False\n",
    ")\n"
   ]
  },
  {
   "cell_type": "code",
   "execution_count": 36,
   "metadata": {},
   "outputs": [
    {
     "data": {
      "application/vnd.jupyter.widget-view+json": {
       "model_id": "5960a8f0676740229932d6c1f6c66ab5",
       "version_major": 2,
       "version_minor": 0
      },
      "text/plain": [
       "HTML(value=\"<h1>Title</h1><h2><font color='red'>Subtitle</font></h2>\")"
      ]
     },
     "execution_count": 36,
     "metadata": {},
     "output_type": "execute_result"
    }
   ],
   "source": [
    "wg.HTML(\"<h1>Title</h1><h2><font color='red'>Subtitle</font></h2>\")\n"
   ]
  },
  {
   "cell_type": "code",
   "execution_count": 39,
   "metadata": {},
   "outputs": [
    {
     "data": {
      "application/vnd.jupyter.widget-view+json": {
       "model_id": "8468f3ac8f0d4ca9872a771866357be6",
       "version_major": 2,
       "version_minor": 0
      },
      "text/plain": [
       "HTMLMath(value='Binomial coefficient formula: $ \\\\binom{n}{k} = \\\\frac{n!}{k!(n-k)!} $')"
      ]
     },
     "execution_count": 39,
     "metadata": {},
     "output_type": "execute_result"
    }
   ],
   "source": [
    "# Single dollar signs make things small and inline\n",
    "\n",
    "wg.HTMLMath(value=r\"Binomial coefficient formula: $ \\binom{n}{k} = \\frac{n!}{k!(n-k)!} $\")\n"
   ]
  },
  {
   "cell_type": "code",
   "execution_count": 40,
   "metadata": {},
   "outputs": [
    {
     "data": {
      "application/vnd.jupyter.widget-view+json": {
       "model_id": "8f41006328b04770ba4859cd3fb4f54b",
       "version_major": 2,
       "version_minor": 0
      },
      "text/plain": [
       "HTMLMath(value='Binomial coefficient formula: $$ \\\\binom{n}{k} = \\\\frac{n!}{k!(n-k)!} $$')"
      ]
     },
     "execution_count": 40,
     "metadata": {},
     "output_type": "execute_result"
    }
   ],
   "source": [
    "# Double dollar signs make things larger, and usually causes a line break\n",
    "\n",
    "wg.HTMLMath(value=r\"Binomial coefficient formula: $$ \\binom{n}{k} = \\frac{n!}{k!(n-k)!} $$\")\n"
   ]
  },
  {
   "cell_type": "markdown",
   "metadata": {},
   "source": [
    "## Layout"
   ]
  },
  {
   "cell_type": "code",
   "execution_count": 41,
   "metadata": {},
   "outputs": [
    {
     "data": {
      "application/vnd.jupyter.widget-view+json": {
       "model_id": "b7ef4be0c6e44e4d94d6e51216cc88a0",
       "version_major": 2,
       "version_minor": 0
      },
      "text/plain": [
       "Button(description='(50% width, 80px height) button', layout=Layout(height='80px', width='50%'), style=ButtonS…"
      ]
     },
     "execution_count": 41,
     "metadata": {},
     "output_type": "execute_result"
    }
   ],
   "source": [
    "# The layout and style arguments in widget initialisation functions allows you to customise how individual widgets look.\n",
    "\n",
    "wg.Button(description='(50% width, 80px height) button',\n",
    "          layout={\"width\": '50%', \"height\": '80px'})\n",
    "\n",
    "# This also does the same thing:     layout=wg.Layout(width='50%', height='80px')\n"
   ]
  },
  {
   "cell_type": "code",
   "execution_count": 43,
   "metadata": {},
   "outputs": [
    {
     "data": {
      "application/vnd.jupyter.widget-view+json": {
       "model_id": "033670edcb9b4cd1bc0823a0ca05f1f0",
       "version_major": 2,
       "version_minor": 0
      },
      "text/plain": [
       "IntSlider(value=0, description='A too long description')"
      ]
     },
     "metadata": {},
     "output_type": "display_data"
    },
    {
     "data": {
      "application/vnd.jupyter.widget-view+json": {
       "model_id": "92fe4f97ff6e4503ba6eab09ccec8d85",
       "version_major": 2,
       "version_minor": 0
      },
      "text/plain": [
       "IntSlider(value=0, description='A too long description', style=SliderStyle(description_width='initial'))"
      ]
     },
     "metadata": {},
     "output_type": "display_data"
    },
    {
     "data": {
      "application/vnd.jupyter.widget-view+json": {
       "model_id": "997d19a609d94aa58e065daf3c872928",
       "version_major": 2,
       "version_minor": 0
      },
      "text/plain": [
       "IntSlider(value=0, layout=Layout(border_bottom='2px solid green', border_left='2px solid green', border_right=…"
      ]
     },
     "metadata": {},
     "output_type": "display_data"
    }
   ],
   "source": [
    "w1 = wg.IntSlider(description='A too long description')\n",
    "\n",
    "w2 = wg.IntSlider(description='A too long description', \n",
    "                  style={'description_width': 'initial'})\n",
    "\n",
    "w3 = wg.IntSlider(\n",
    "    layout=wg.Layout(\n",
    "        border=\"2px solid green\",\n",
    "        width=\"200px\",\n",
    "        height=\"50px\",\n",
    "        margin=\"10px 0.1cm 10px 1mm\",   # margin=[top/right/bottom/left]\n",
    "        padding=\"0 0 0 15px\"\n",
    "    )\n",
    ")\n",
    "display(w1, w2, w3)\n"
   ]
  },
  {
   "cell_type": "markdown",
   "metadata": {},
   "source": [
    "## Boxes\n",
    "- Boxes are the simplest way to combine multiple widgets together into a single GUI.\n",
    "\n"
   ]
  },
  {
   "cell_type": "code",
   "execution_count": 45,
   "metadata": {},
   "outputs": [
    {
     "data": {
      "application/vnd.jupyter.widget-view+json": {
       "model_id": "bd728da8760e4ebdacf397a8eae55cab",
       "version_major": 2,
       "version_minor": 0
      },
      "text/plain": [
       "HBox(children=(Label(value='Pizza topping with a very long label:'), RadioButtons(layout=Layout(justify_conten…"
      ]
     },
     "execution_count": 45,
     "metadata": {},
     "output_type": "execute_result"
    }
   ],
   "source": [
    "\n",
    "wg.HBox(\n",
    "    [\n",
    "        wg.Label(value='Pizza topping with a very long label:'),\n",
    "        wg.RadioButtons(\n",
    "            options=[\n",
    "                'pepperoni',\n",
    "                'pineapple',\n",
    "                'anchovies',\n",
    "                'and the long name that will fit fine and the long name that will fit fine and the long name that will fit fine '\n",
    "            ],\n",
    "            layout=wg.Layout(width='max-content', justify_content=\"space-between\")\n",
    "        )\n",
    "    ]\n",
    ")\n"
   ]
  },
  {
   "cell_type": "code",
   "execution_count": 46,
   "metadata": {},
   "outputs": [
    {
     "data": {
      "application/vnd.jupyter.widget-view+json": {
       "model_id": "1e3b2bcd1f874e29a2ed1bb972db6c51",
       "version_major": 2,
       "version_minor": 0
      },
      "text/plain": [
       "HBox(children=(VBox(children=(HTML(value='<b>Left</b>'), Button(description='button 1', layout=Layout(height='…"
      ]
     },
     "execution_count": 46,
     "metadata": {},
     "output_type": "execute_result"
    }
   ],
   "source": [
    "intslider = wg.IntRangeSlider(\n",
    "    value=(20, 40), \n",
    "    min=5, \n",
    "    max=100, \n",
    "    layout=wg.Layout(height=\"auto\", width=\"auto\")\n",
    ")\n",
    " \n",
    "dropdown = wg.Dropdown(\n",
    "    placeholder='start typing... (e.g. L or o)',\n",
    "    options=['Amsterdam', 'Athens', 'Lisbon', 'London', 'Ljubljana'], \n",
    "    description='dropdown',\n",
    "    layout=wg.Layout(height=\"auto\", width=\"auto\")\n",
    ")\n",
    "\n",
    "radiobuttons = wg.RadioButtons(\n",
    "    value='feb', \n",
    "    options=['jan', 'feb', 'mar', 'apr'], \n",
    "    description='radio buttons',\n",
    ")\n",
    "\n",
    "b1 = wg.Button(description='button 1', layout=wg.Layout(height='auto', width='auto'))\n",
    "b2 = wg.Button(description='button 2', layout=wg.Layout(height='auto', width='auto'))\n",
    "\n",
    "box_layout = wg.Layout(\n",
    "        border='solid 1px red',\n",
    "        margin='5px 10px 10px 0px',\n",
    "        padding='5px 5px 5px 5px',\n",
    "        width=\"50%\",\n",
    "        justify_content='space-between'  # remove this argument ==> widgets are placed top-down, leaving space at the bottom\n",
    ")\n",
    " \n",
    "vbox1 = wg.VBox([wg.HTML('<b>Left</b>'), b1, b2, intslider], layout=box_layout)\n",
    "vbox2 = wg.VBox([wg.HTML('<b>Right</b>'), dropdown, radiobuttons], layout=box_layout)\n",
    "\n",
    "wg.HBox([vbox1, vbox2])\n"
   ]
  },
  {
   "cell_type": "code",
   "execution_count": 47,
   "metadata": {},
   "outputs": [
    {
     "data": {
      "application/vnd.jupyter.widget-view+json": {
       "model_id": "540b987403eb4f6fa35c44f110f10c4e",
       "version_major": 2,
       "version_minor": 0
      },
      "text/plain": [
       "HBox(children=(Label(value='Align Left', layout=Layout(border_bottom='solid', border_left='solid', border_righ…"
      ]
     },
     "metadata": {},
     "output_type": "display_data"
    }
   ],
   "source": [
    "x = wg.Label(\"Align Left\", layout=wg.Layout(display=\"flex\", justify_content=\"flex-start\", width=\"30%\", border=\"solid\"))\n",
    "y = wg.Label(\"Align Center\", layout=wg.Layout(display=\"flex\", justify_content=\"center\", width=\"30%\", border=\"solid\"))\n",
    "z = wg.Label(\"Align Right\", layout=wg.Layout(display=\"flex\", justify_content=\"flex-end\", width=\"30%\", border=\"solid\"))\n",
    "display(wg.HBox([x,y,z]))\n"
   ]
  },
  {
   "cell_type": "markdown",
   "metadata": {},
   "source": [
    "## Tabs & Accordions\n",
    "- Tabs and Accordions can be used to show different views, each one with different widgets. This becomes especially cool when you combine it with Plotly (see later sections)."
   ]
  },
  {
   "cell_type": "code",
   "execution_count": 49,
   "metadata": {},
   "outputs": [
    {
     "data": {
      "application/vnd.jupyter.widget-view+json": {
       "model_id": "cfb61e452d94456f9a4424fb92688682",
       "version_major": 2,
       "version_minor": 0
      },
      "text/plain": [
       "Tab(children=(IntSlider(value=0, description='IntSlider: '), Text(value='', description='Text: '), Button(desc…"
      ]
     },
     "execution_count": 49,
     "metadata": {},
     "output_type": "execute_result"
    }
   ],
   "source": [
    "wg1 = wg.IntSlider(description=\"IntSlider: \")\n",
    "wg2 = wg.Text(description=\"Text: \")\n",
    "wg3 = wg.Button(description=\"Button: \")\n",
    "wg4 = wg.DatePicker(description=\"DatePicker: \")\n",
    "wg5 = wg.Checkbox(description=\"Checkbox: \")\n",
    "\n",
    "tab = wg.Tab(children=[wg1, wg2, wg3, wg4, wg5])\n",
    "\n",
    "for idx in range(5):\n",
    "    tab.set_title(idx, f\"Tab #{idx}\")\n",
    "\n",
    "tab.selected_index = 3\n",
    "\n",
    "tab\n"
   ]
  },
  {
   "cell_type": "code",
   "execution_count": 51,
   "metadata": {},
   "outputs": [
    {
     "data": {
      "application/vnd.jupyter.widget-view+json": {
       "model_id": "ac960057aad14af78284a95782539edc",
       "version_major": 2,
       "version_minor": 0
      },
      "text/plain": [
       "Accordion(children=(IntSlider(value=0, description='IntSlider: '), Text(value='', description='Text: '), Butto…"
      ]
     },
     "execution_count": 51,
     "metadata": {},
     "output_type": "execute_result"
    }
   ],
   "source": [
    "acc = wg.Accordion(children=[wg1, wg2, wg3, wg4, wg5])\n",
    "\n",
    "for idx in range(5):\n",
    "    acc.set_title(idx, f\"Accordion #{idx+1}\")\n",
    "\n",
    "acc.selected_index = 3\n",
    "\n",
    "acc\n"
   ]
  },
  {
   "cell_type": "markdown",
   "metadata": {},
   "source": [
    "## Output, interaction and events"
   ]
  },
  {
   "cell_type": "code",
   "execution_count": 55,
   "metadata": {},
   "outputs": [
    {
     "data": {
      "application/vnd.jupyter.widget-view+json": {
       "model_id": "ea7ac6ab432a48d8b4303a3f83d8f009",
       "version_major": 2,
       "version_minor": 0
      },
      "text/plain": [
       "Output(layout=Layout(border_bottom='1px solid black', border_left='1px solid black', border_right='1px solid b…"
      ]
     },
     "execution_count": 55,
     "metadata": {},
     "output_type": "execute_result"
    },
    {
     "data": {
      "application/vnd.plotly.v1+json": {
       "config": {
        "displayModeBar": false,
        "plotlyServerURL": "https://plot.ly"
       },
       "data": [
        {
         "hovertemplate": "x=%{x}<br>y=%{y}<extra></extra>",
         "legendgroup": "",
         "marker": {
          "color": "#636efa",
          "symbol": "circle"
         },
         "mode": "markers",
         "name": "",
         "orientation": "v",
         "showlegend": false,
         "type": "scatter",
         "x": [
          0,
          1,
          2,
          3,
          4
         ],
         "xaxis": "x",
         "y": [
          0,
          1,
          4,
          9,
          16
         ],
         "yaxis": "y"
        }
       ],
       "layout": {
        "height": 250,
        "legend": {
         "tracegroupgap": 0
        },
        "margin": {
         "b": 20,
         "l": 20,
         "r": 20,
         "t": 20
        },
        "template": {
         "data": {
          "bar": [
           {
            "error_x": {
             "color": "#2a3f5f"
            },
            "error_y": {
             "color": "#2a3f5f"
            },
            "marker": {
             "line": {
              "color": "#E5ECF6",
              "width": 0.5
             },
             "pattern": {
              "fillmode": "overlay",
              "size": 10,
              "solidity": 0.2
             }
            },
            "type": "bar"
           }
          ],
          "barpolar": [
           {
            "marker": {
             "line": {
              "color": "#E5ECF6",
              "width": 0.5
             },
             "pattern": {
              "fillmode": "overlay",
              "size": 10,
              "solidity": 0.2
             }
            },
            "type": "barpolar"
           }
          ],
          "carpet": [
           {
            "aaxis": {
             "endlinecolor": "#2a3f5f",
             "gridcolor": "white",
             "linecolor": "white",
             "minorgridcolor": "white",
             "startlinecolor": "#2a3f5f"
            },
            "baxis": {
             "endlinecolor": "#2a3f5f",
             "gridcolor": "white",
             "linecolor": "white",
             "minorgridcolor": "white",
             "startlinecolor": "#2a3f5f"
            },
            "type": "carpet"
           }
          ],
          "choropleth": [
           {
            "colorbar": {
             "outlinewidth": 0,
             "ticks": ""
            },
            "type": "choropleth"
           }
          ],
          "contour": [
           {
            "colorbar": {
             "outlinewidth": 0,
             "ticks": ""
            },
            "colorscale": [
             [
              0,
              "#0d0887"
             ],
             [
              0.1111111111111111,
              "#46039f"
             ],
             [
              0.2222222222222222,
              "#7201a8"
             ],
             [
              0.3333333333333333,
              "#9c179e"
             ],
             [
              0.4444444444444444,
              "#bd3786"
             ],
             [
              0.5555555555555556,
              "#d8576b"
             ],
             [
              0.6666666666666666,
              "#ed7953"
             ],
             [
              0.7777777777777778,
              "#fb9f3a"
             ],
             [
              0.8888888888888888,
              "#fdca26"
             ],
             [
              1,
              "#f0f921"
             ]
            ],
            "type": "contour"
           }
          ],
          "contourcarpet": [
           {
            "colorbar": {
             "outlinewidth": 0,
             "ticks": ""
            },
            "type": "contourcarpet"
           }
          ],
          "heatmap": [
           {
            "colorbar": {
             "outlinewidth": 0,
             "ticks": ""
            },
            "colorscale": [
             [
              0,
              "#0d0887"
             ],
             [
              0.1111111111111111,
              "#46039f"
             ],
             [
              0.2222222222222222,
              "#7201a8"
             ],
             [
              0.3333333333333333,
              "#9c179e"
             ],
             [
              0.4444444444444444,
              "#bd3786"
             ],
             [
              0.5555555555555556,
              "#d8576b"
             ],
             [
              0.6666666666666666,
              "#ed7953"
             ],
             [
              0.7777777777777778,
              "#fb9f3a"
             ],
             [
              0.8888888888888888,
              "#fdca26"
             ],
             [
              1,
              "#f0f921"
             ]
            ],
            "type": "heatmap"
           }
          ],
          "heatmapgl": [
           {
            "colorbar": {
             "outlinewidth": 0,
             "ticks": ""
            },
            "colorscale": [
             [
              0,
              "#0d0887"
             ],
             [
              0.1111111111111111,
              "#46039f"
             ],
             [
              0.2222222222222222,
              "#7201a8"
             ],
             [
              0.3333333333333333,
              "#9c179e"
             ],
             [
              0.4444444444444444,
              "#bd3786"
             ],
             [
              0.5555555555555556,
              "#d8576b"
             ],
             [
              0.6666666666666666,
              "#ed7953"
             ],
             [
              0.7777777777777778,
              "#fb9f3a"
             ],
             [
              0.8888888888888888,
              "#fdca26"
             ],
             [
              1,
              "#f0f921"
             ]
            ],
            "type": "heatmapgl"
           }
          ],
          "histogram": [
           {
            "marker": {
             "pattern": {
              "fillmode": "overlay",
              "size": 10,
              "solidity": 0.2
             }
            },
            "type": "histogram"
           }
          ],
          "histogram2d": [
           {
            "colorbar": {
             "outlinewidth": 0,
             "ticks": ""
            },
            "colorscale": [
             [
              0,
              "#0d0887"
             ],
             [
              0.1111111111111111,
              "#46039f"
             ],
             [
              0.2222222222222222,
              "#7201a8"
             ],
             [
              0.3333333333333333,
              "#9c179e"
             ],
             [
              0.4444444444444444,
              "#bd3786"
             ],
             [
              0.5555555555555556,
              "#d8576b"
             ],
             [
              0.6666666666666666,
              "#ed7953"
             ],
             [
              0.7777777777777778,
              "#fb9f3a"
             ],
             [
              0.8888888888888888,
              "#fdca26"
             ],
             [
              1,
              "#f0f921"
             ]
            ],
            "type": "histogram2d"
           }
          ],
          "histogram2dcontour": [
           {
            "colorbar": {
             "outlinewidth": 0,
             "ticks": ""
            },
            "colorscale": [
             [
              0,
              "#0d0887"
             ],
             [
              0.1111111111111111,
              "#46039f"
             ],
             [
              0.2222222222222222,
              "#7201a8"
             ],
             [
              0.3333333333333333,
              "#9c179e"
             ],
             [
              0.4444444444444444,
              "#bd3786"
             ],
             [
              0.5555555555555556,
              "#d8576b"
             ],
             [
              0.6666666666666666,
              "#ed7953"
             ],
             [
              0.7777777777777778,
              "#fb9f3a"
             ],
             [
              0.8888888888888888,
              "#fdca26"
             ],
             [
              1,
              "#f0f921"
             ]
            ],
            "type": "histogram2dcontour"
           }
          ],
          "mesh3d": [
           {
            "colorbar": {
             "outlinewidth": 0,
             "ticks": ""
            },
            "type": "mesh3d"
           }
          ],
          "parcoords": [
           {
            "line": {
             "colorbar": {
              "outlinewidth": 0,
              "ticks": ""
             }
            },
            "type": "parcoords"
           }
          ],
          "pie": [
           {
            "automargin": true,
            "type": "pie"
           }
          ],
          "scatter": [
           {
            "fillpattern": {
             "fillmode": "overlay",
             "size": 10,
             "solidity": 0.2
            },
            "type": "scatter"
           }
          ],
          "scatter3d": [
           {
            "line": {
             "colorbar": {
              "outlinewidth": 0,
              "ticks": ""
             }
            },
            "marker": {
             "colorbar": {
              "outlinewidth": 0,
              "ticks": ""
             }
            },
            "type": "scatter3d"
           }
          ],
          "scattercarpet": [
           {
            "marker": {
             "colorbar": {
              "outlinewidth": 0,
              "ticks": ""
             }
            },
            "type": "scattercarpet"
           }
          ],
          "scattergeo": [
           {
            "marker": {
             "colorbar": {
              "outlinewidth": 0,
              "ticks": ""
             }
            },
            "type": "scattergeo"
           }
          ],
          "scattergl": [
           {
            "marker": {
             "colorbar": {
              "outlinewidth": 0,
              "ticks": ""
             }
            },
            "type": "scattergl"
           }
          ],
          "scattermapbox": [
           {
            "marker": {
             "colorbar": {
              "outlinewidth": 0,
              "ticks": ""
             }
            },
            "type": "scattermapbox"
           }
          ],
          "scatterpolar": [
           {
            "marker": {
             "colorbar": {
              "outlinewidth": 0,
              "ticks": ""
             }
            },
            "type": "scatterpolar"
           }
          ],
          "scatterpolargl": [
           {
            "marker": {
             "colorbar": {
              "outlinewidth": 0,
              "ticks": ""
             }
            },
            "type": "scatterpolargl"
           }
          ],
          "scatterternary": [
           {
            "marker": {
             "colorbar": {
              "outlinewidth": 0,
              "ticks": ""
             }
            },
            "type": "scatterternary"
           }
          ],
          "surface": [
           {
            "colorbar": {
             "outlinewidth": 0,
             "ticks": ""
            },
            "colorscale": [
             [
              0,
              "#0d0887"
             ],
             [
              0.1111111111111111,
              "#46039f"
             ],
             [
              0.2222222222222222,
              "#7201a8"
             ],
             [
              0.3333333333333333,
              "#9c179e"
             ],
             [
              0.4444444444444444,
              "#bd3786"
             ],
             [
              0.5555555555555556,
              "#d8576b"
             ],
             [
              0.6666666666666666,
              "#ed7953"
             ],
             [
              0.7777777777777778,
              "#fb9f3a"
             ],
             [
              0.8888888888888888,
              "#fdca26"
             ],
             [
              1,
              "#f0f921"
             ]
            ],
            "type": "surface"
           }
          ],
          "table": [
           {
            "cells": {
             "fill": {
              "color": "#EBF0F8"
             },
             "line": {
              "color": "white"
             }
            },
            "header": {
             "fill": {
              "color": "#C8D4E3"
             },
             "line": {
              "color": "white"
             }
            },
            "type": "table"
           }
          ]
         },
         "layout": {
          "annotationdefaults": {
           "arrowcolor": "#2a3f5f",
           "arrowhead": 0,
           "arrowwidth": 1
          },
          "autotypenumbers": "strict",
          "coloraxis": {
           "colorbar": {
            "outlinewidth": 0,
            "ticks": ""
           }
          },
          "colorscale": {
           "diverging": [
            [
             0,
             "#8e0152"
            ],
            [
             0.1,
             "#c51b7d"
            ],
            [
             0.2,
             "#de77ae"
            ],
            [
             0.3,
             "#f1b6da"
            ],
            [
             0.4,
             "#fde0ef"
            ],
            [
             0.5,
             "#f7f7f7"
            ],
            [
             0.6,
             "#e6f5d0"
            ],
            [
             0.7,
             "#b8e186"
            ],
            [
             0.8,
             "#7fbc41"
            ],
            [
             0.9,
             "#4d9221"
            ],
            [
             1,
             "#276419"
            ]
           ],
           "sequential": [
            [
             0,
             "#0d0887"
            ],
            [
             0.1111111111111111,
             "#46039f"
            ],
            [
             0.2222222222222222,
             "#7201a8"
            ],
            [
             0.3333333333333333,
             "#9c179e"
            ],
            [
             0.4444444444444444,
             "#bd3786"
            ],
            [
             0.5555555555555556,
             "#d8576b"
            ],
            [
             0.6666666666666666,
             "#ed7953"
            ],
            [
             0.7777777777777778,
             "#fb9f3a"
            ],
            [
             0.8888888888888888,
             "#fdca26"
            ],
            [
             1,
             "#f0f921"
            ]
           ],
           "sequentialminus": [
            [
             0,
             "#0d0887"
            ],
            [
             0.1111111111111111,
             "#46039f"
            ],
            [
             0.2222222222222222,
             "#7201a8"
            ],
            [
             0.3333333333333333,
             "#9c179e"
            ],
            [
             0.4444444444444444,
             "#bd3786"
            ],
            [
             0.5555555555555556,
             "#d8576b"
            ],
            [
             0.6666666666666666,
             "#ed7953"
            ],
            [
             0.7777777777777778,
             "#fb9f3a"
            ],
            [
             0.8888888888888888,
             "#fdca26"
            ],
            [
             1,
             "#f0f921"
            ]
           ]
          },
          "colorway": [
           "#636efa",
           "#EF553B",
           "#00cc96",
           "#ab63fa",
           "#FFA15A",
           "#19d3f3",
           "#FF6692",
           "#B6E880",
           "#FF97FF",
           "#FECB52"
          ],
          "font": {
           "color": "#2a3f5f"
          },
          "geo": {
           "bgcolor": "white",
           "lakecolor": "white",
           "landcolor": "#E5ECF6",
           "showlakes": true,
           "showland": true,
           "subunitcolor": "white"
          },
          "hoverlabel": {
           "align": "left"
          },
          "hovermode": "closest",
          "mapbox": {
           "style": "light"
          },
          "paper_bgcolor": "white",
          "plot_bgcolor": "#E5ECF6",
          "polar": {
           "angularaxis": {
            "gridcolor": "white",
            "linecolor": "white",
            "ticks": ""
           },
           "bgcolor": "#E5ECF6",
           "radialaxis": {
            "gridcolor": "white",
            "linecolor": "white",
            "ticks": ""
           }
          },
          "scene": {
           "xaxis": {
            "backgroundcolor": "#E5ECF6",
            "gridcolor": "white",
            "gridwidth": 2,
            "linecolor": "white",
            "showbackground": true,
            "ticks": "",
            "zerolinecolor": "white"
           },
           "yaxis": {
            "backgroundcolor": "#E5ECF6",
            "gridcolor": "white",
            "gridwidth": 2,
            "linecolor": "white",
            "showbackground": true,
            "ticks": "",
            "zerolinecolor": "white"
           },
           "zaxis": {
            "backgroundcolor": "#E5ECF6",
            "gridcolor": "white",
            "gridwidth": 2,
            "linecolor": "white",
            "showbackground": true,
            "ticks": "",
            "zerolinecolor": "white"
           }
          },
          "shapedefaults": {
           "line": {
            "color": "#2a3f5f"
           }
          },
          "ternary": {
           "aaxis": {
            "gridcolor": "white",
            "linecolor": "white",
            "ticks": ""
           },
           "baxis": {
            "gridcolor": "white",
            "linecolor": "white",
            "ticks": ""
           },
           "bgcolor": "#E5ECF6",
           "caxis": {
            "gridcolor": "white",
            "linecolor": "white",
            "ticks": ""
           }
          },
          "title": {
           "x": 0.05
          },
          "xaxis": {
           "automargin": true,
           "gridcolor": "white",
           "linecolor": "white",
           "ticks": "",
           "title": {
            "standoff": 15
           },
           "zerolinecolor": "white",
           "zerolinewidth": 2
          },
          "yaxis": {
           "automargin": true,
           "gridcolor": "white",
           "linecolor": "white",
           "ticks": "",
           "title": {
            "standoff": 15
           },
           "zerolinecolor": "white",
           "zerolinewidth": 2
          }
         }
        },
        "width": 300,
        "xaxis": {
         "anchor": "y",
         "domain": [
          0,
          1
         ],
         "title": {
          "text": "x"
         }
        },
        "yaxis": {
         "anchor": "x",
         "domain": [
          0,
          1
         ],
         "title": {
          "text": "y"
         }
        }
       }
      }
     },
     "metadata": {},
     "output_type": "display_data"
    }
   ],
   "source": [
    "out = wg.Output(layout={'border': '1px solid black', \"background-color\": \"#BBBBBB\"})\n",
    "out\n"
   ]
  },
  {
   "cell_type": "code",
   "execution_count": 56,
   "metadata": {},
   "outputs": [],
   "source": [
    "with out:\n",
    "    for i in range(5):\n",
    "        print(i, 'Hello world!')\n",
    "        \n",
    "with out:\n",
    "    display(wg.IntSlider(value=10))\n",
    "\n",
    "fig = px.scatter(pd.DataFrame({\"x\":np.arange(5), \"y\":np.arange(5)**2}), x=\"x\", y=\"y\")\n",
    "fig.update_layout(height=250, width=300, margin=dict(l=20,r=20,t=20,b=20))\n",
    "with out:\n",
    "    fig.show(config=dict(displayModeBar=False))\n"
   ]
  },
  {
   "cell_type": "code",
   "execution_count": 54,
   "metadata": {},
   "outputs": [],
   "source": [
    "out.clear_output()\n"
   ]
  },
  {
   "cell_type": "markdown",
   "metadata": {},
   "source": [
    "### Interaction\n",
    "- The wg.interact() function links user-defined widgets to a user-defined function by having the function take the value of the widgets as inputs. It then displays both the widgets and the function output."
   ]
  },
  {
   "cell_type": "code",
   "execution_count": 57,
   "metadata": {},
   "outputs": [
    {
     "data": {
      "application/vnd.jupyter.widget-view+json": {
       "model_id": "d06aef5ef594440fab763df06c42a3ab",
       "version_major": 2,
       "version_minor": 0
      },
      "text/plain": [
       "interactive(children=(Text(value='', description='Food: ', placeholder='Type something!'), Output()), _dom_cla…"
      ]
     },
     "metadata": {},
     "output_type": "display_data"
    }
   ],
   "source": [
    "words = [\"apple\", \"apple pie\", \"anchovy\", \"banana\"]\n",
    "\n",
    "widget_text = wg.Text(value='', description='Food: ', placeholder='Type something!')\n",
    "\n",
    "def print_matching_words(text):\n",
    "    words_filtered = [word for word in words if word[:len(text)] == text]\n",
    "    print(f\"Matching words: {words_filtered}\")\n",
    "    \n",
    "wg.interact(print_matching_words, text=widget_text);\n"
   ]
  },
  {
   "cell_type": "code",
   "execution_count": 58,
   "metadata": {},
   "outputs": [
    {
     "data": {
      "application/vnd.jupyter.widget-view+json": {
       "model_id": "475dafc5a07b4d7fb9fc22d1c3dc5ed4",
       "version_major": 2,
       "version_minor": 0
      },
      "text/plain": [
       "interactive(children=(Text(value='', description='Food: ', placeholder='Type something!'), Checkbox(value=Fals…"
      ]
     },
     "metadata": {},
     "output_type": "display_data"
    }
   ],
   "source": [
    "words = [\"apple\", \"apple pie\", \"anchovy\", \"banana\"]\n",
    "fruits = [\"apple\", \"banana\"]\n",
    "\n",
    "widget_text = wg.Text(value='', description='Food: ', placeholder='Type something!')\n",
    "widget_checkbox = wg.Checkbox(description='Only return fruit')\n",
    "\n",
    "def print_matching_words(text, checkbox):\n",
    "    words_filtered = [word for word in words if (word[:len(text)] == text) and (not checkbox or word in fruits)]\n",
    "    print(f\"Matching words: {', '.join(words_filtered)}\")\n",
    "\n",
    "wg.interact(print_matching_words, text=widget_text, checkbox=widget_checkbox);\n"
   ]
  },
  {
   "cell_type": "markdown",
   "metadata": {},
   "source": [
    "### Decorator\n",
    "- just like interact but easier"
   ]
  },
  {
   "cell_type": "code",
   "execution_count": 59,
   "metadata": {},
   "outputs": [
    {
     "data": {
      "application/vnd.jupyter.widget-view+json": {
       "model_id": "346c53433e364cb297773b34f8bd3475",
       "version_major": 2,
       "version_minor": 0
      },
      "text/plain": [
       "interactive(children=(Label(value='Use the widgets to filter the dataframe!', description='label'), Dropdown(d…"
      ]
     },
     "metadata": {},
     "output_type": "display_data"
    }
   ],
   "source": [
    "df = pd.DataFrame({\"X\": [1,2,3,4,5], \"Y\": [5,4,3,2,1]})\n",
    "\n",
    "widget_col = wg.Dropdown(options = ['X', 'Y'], description='Column:')\n",
    "widget_x = wg.IntSlider(min = 1, max = 6, step = 1, value = 3, description='Value is $\\geq$')\n",
    "widget_label = wg.Label(\"Use the widgets to filter the dataframe!\")\n",
    "\n",
    "@wg.interact\n",
    "def show_articles_more_than(label=widget_label, column=widget_col, x=widget_x):\n",
    "    return df[df[column] >= x]\n"
   ]
  },
  {
   "cell_type": "markdown",
   "metadata": {},
   "source": [
    "### Interactive output\n",
    "- The big difference between wg.interactive_output() and the previous wg.interact() function is that interactive output doesn't auto-generate a user interface for the widgets, it creates an output widget to display it instead (see the earlier subsection Output & Observe).\n",
    "\n",
    "This means you can customise one yourself, i.e. you get more control over their appearance (rather than them just being displayed vertically, as is the default)."
   ]
  },
  {
   "cell_type": "code",
   "execution_count": 60,
   "metadata": {},
   "outputs": [
    {
     "data": {
      "application/vnd.jupyter.widget-view+json": {
       "model_id": "db0a07623d2a4d53a1ce67346bdb6442",
       "version_major": 2,
       "version_minor": 0
      },
      "text/plain": [
       "HBox(children=(VBox(children=(IntSlider(value=1, description='a', max=10), IntSlider(value=1, description='b',…"
      ]
     },
     "execution_count": 60,
     "metadata": {},
     "output_type": "execute_result"
    }
   ],
   "source": [
    "a = wg.IntSlider(description='a', max=10, value=1)\n",
    "b = wg.IntSlider(description='b', max=10, value=1)\n",
    "c = wg.IntSlider(description='c', max=10, value=1)\n",
    "\n",
    "def f(a, b, c):\n",
    "    print(f'{a}*{b}*{c}={a*b*c}')\n",
    "\n",
    "out = wg.interactive_output(f, {'a': a, 'b': b, 'c': c})\n",
    "\n",
    "wg.HBox([wg.VBox([a, b, c]), out])\n"
   ]
  },
  {
   "cell_type": "code",
   "execution_count": 61,
   "metadata": {},
   "outputs": [
    {
     "data": {
      "application/vnd.jupyter.widget-view+json": {
       "model_id": "a6113e3561d441b09a8677dc8351bb4c",
       "version_major": 2,
       "version_minor": 0
      },
      "text/plain": [
       "HBox(children=(VBox(children=(IntSlider(value=1, description='a', layout=Layout(width='auto'), max=10, style=S…"
      ]
     },
     "execution_count": 61,
     "metadata": {},
     "output_type": "execute_result"
    }
   ],
   "source": [
    "a = wg.IntSlider(description='a', max=10, value=1, layout={'width':'auto'}, style={'description_width': '15%'})\n",
    "b = wg.IntSlider(description='b', max=10, value=1, layout={'width':'auto'}, style={'description_width': '15%'})\n",
    "c = wg.IntSlider(description='c', max=10, value=1, layout={'width':'auto'}, style={'description_width': '15%'})\n",
    "\n",
    "label = wg.Label(r\"Value of $a \\times b \\times c$:\")\n",
    "\n",
    "def f(a, b, c):\n",
    "    print(f'{a}*{b}*{c}={a*b*c}')\n",
    "\n",
    "out = wg.interactive_output(f, {'a': a, 'b': b, 'c': c})\n",
    "\n",
    "box_layout = {\n",
    "        'border': 'solid 1px red',\n",
    "        'margin': '5px 10px 10px 0px',\n",
    "        'padding': '5px 5px 5px 5px',\n",
    "        'display': \"flex\", \n",
    "        'justify_content': \"center\",\n",
    "}\n",
    "\n",
    "input_box = wg.VBox(\n",
    "    children=[a, b, c], \n",
    "    layout={**box_layout, \"width\":\"30%\"}\n",
    ")\n",
    "\n",
    "output_box = wg.VBox(\n",
    "    children=[label, out],\n",
    "    layout={**box_layout, \"width\":\"15%\"}\n",
    ")\n",
    "\n",
    "wg.HBox([input_box, output_box])\n"
   ]
  },
  {
   "cell_type": "code",
   "execution_count": null,
   "metadata": {},
   "outputs": [
    {
     "data": {
      "application/vnd.jupyter.widget-view+json": {
       "model_id": "db0a07623d2a4d53a1ce67346bdb6442",
       "version_major": 2,
       "version_minor": 0
      },
      "text/plain": [
       "HBox(children=(VBox(children=(IntSlider(value=1, description='a', max=10), IntSlider(value=1, description='b',…"
      ]
     },
     "metadata": {},
     "output_type": "display_data"
    }
   ],
   "source": [
    "a = wg.IntSlider(description='a', max=10, value=1)\n",
    "b = wg.IntSlider(description='b', max=10, value=1)\n",
    "c = wg.IntSlider(description='c', max=10, value=1)\n",
    "\n",
    "def f(a, b, c):\n",
    "    print(f'{a}*{b}*{c}={a*b*c}')\n",
    "\n",
    "out = wg.interactive_output(f, {'a': a, 'b': b, 'c': c})\n",
    "\n",
    "wg.HBox([wg.VBox([a, b, c]), out])\n"
   ]
  },
  {
   "cell_type": "markdown",
   "metadata": {},
   "source": [
    "### Observe \n",
    "- Using the observe method is somewhat similar to using interactive_output but the difference is observe allows you to access the widget's previous value as well as it's new value. Which one you use is mainly a matter of personal preference, i.e. which one's syntax seems more intuitive to you.\n",
    "- This first example shows the basic syntax of using observe. We define a function with a single argument (representing the widget change). In the body of the function, we can access some of the properties of the change, including:\n",
    "\n",
    "    - name, which will usually be 'value'\n",
    "    - old, which is the old value of the widget\n",
    "    - new, which is the new value of the widget"
   ]
  },
  {
   "cell_type": "code",
   "execution_count": 62,
   "metadata": {},
   "outputs": [
    {
     "data": {
      "application/vnd.jupyter.widget-view+json": {
       "model_id": "8ef361defa934583adba32a40429c52d",
       "version_major": 2,
       "version_minor": 0
      },
      "text/plain": [
       "VBox(children=(Dropdown(options=(('one', 1), ('two', 2), ('three', 3), ('four', 4), ('five', 5)), value=1), Ou…"
      ]
     },
     "metadata": {},
     "output_type": "display_data"
    }
   ],
   "source": [
    "v = wg.Dropdown(options=list(zip([\"one\", \"two\", \"three\", \"four\", \"five\"], range(1, 6))), value=1)\n",
    "out = wg.Output()\n",
    "\n",
    "d = wg.VBox([v, out])\n",
    "display(d)\n",
    "\n",
    "def on_value_change(change):\n",
    "    with out:\n",
    "        print(f\"{change['name']} changed from {change['old']} to {change['new']}\")\n",
    "\n",
    "v.observe(on_value_change, names='value')\n"
   ]
  },
  {
   "cell_type": "code",
   "execution_count": 63,
   "metadata": {},
   "outputs": [],
   "source": [
    "# can remove link using\n",
    "v.unobserve(on_value_change, names='value')\n"
   ]
  },
  {
   "cell_type": "code",
   "execution_count": 64,
   "metadata": {},
   "outputs": [
    {
     "data": {
      "application/vnd.jupyter.widget-view+json": {
       "model_id": "ae6bdc8ee17d4ef6a191aa3c35e26964",
       "version_major": 2,
       "version_minor": 0
      },
      "text/plain": [
       "VBox(children=(Dropdown(options=(('one', 1), ('two', 2), ('three', 3), ('four', 4), ('five', 5)), value=1), Ou…"
      ]
     },
     "metadata": {},
     "output_type": "display_data"
    }
   ],
   "source": [
    "# he next example adds a new attribute of change: owner, \n",
    "# which is the actual widget that was changed. \n",
    "# This can be used in some very powerful ways. \n",
    "# The code below is quite simple, it will switch th widget value from 2 to 3 \n",
    "# whenever it is set to 2 by the user \n",
    "# (note that this will trigger the on_value_change function a second time).\n",
    "\n",
    "v = wg.Dropdown(options=list(zip([\"one\", \"two\", \"three\", \"four\", \"five\"], range(1, 6))), value=1)\n",
    "out = wg.Output()\n",
    "\n",
    "d = wg.VBox([v, out])\n",
    "display(d)\n",
    "\n",
    "def on_value_change(change):\n",
    "    with out:\n",
    "        print(f\"{change['name']} of {change['owner']._view_name} changed from {change['old']} to {change['new']}\")\n",
    "        if change['new'] == 2:\n",
    "            print(\"2 is a bad value!\")\n",
    "            change['owner'].value = 3\n",
    "\n",
    "v.observe(on_value_change, names='value')\n"
   ]
  },
  {
   "cell_type": "code",
   "execution_count": 65,
   "metadata": {},
   "outputs": [
    {
     "data": {
      "application/vnd.jupyter.widget-view+json": {
       "model_id": "865e8b3fd0ca4707b0a8133549d9dbef",
       "version_major": 2,
       "version_minor": 0
      },
      "text/plain": [
       "Label(value='Move the slider!')"
      ]
     },
     "metadata": {},
     "output_type": "display_data"
    },
    {
     "data": {
      "application/vnd.jupyter.widget-view+json": {
       "model_id": "d73b693ea9de452b827933ede3b6dbf1",
       "version_major": 2,
       "version_minor": 0
      },
      "text/plain": [
       "IntSlider(value=1, description='Slider', max=5, min=-5)"
      ]
     },
     "metadata": {},
     "output_type": "display_data"
    }
   ],
   "source": [
    "#This example shows how you can change the value of different\n",
    "# widgets in the body of your function,\n",
    "# by referring to them explicitly by name.\n",
    "\n",
    "caption = wg.Label(\"Move the slider!\")\n",
    "slider = wg.IntSlider(min=-5, max=5, value=1, description='Slider')\n",
    "\n",
    "def handle_slider_change(change):\n",
    "    caption.value = f'The slider value is {\"negative\" if change.new < 0 else \"nonnegative\"}'\n",
    "\n",
    "slider.observe(handle_slider_change, names='value')\n",
    "\n",
    "display(caption, slider)\n"
   ]
  },
  {
   "cell_type": "code",
   "execution_count": 66,
   "metadata": {},
   "outputs": [
    {
     "data": {
      "application/vnd.jupyter.widget-view+json": {
       "model_id": "349568d597de487b877210512d09b044",
       "version_major": 2,
       "version_minor": 0
      },
      "text/plain": [
       "Text(value='', placeholder='Type something!')"
      ]
     },
     "metadata": {},
     "output_type": "display_data"
    },
    {
     "data": {
      "application/vnd.jupyter.widget-view+json": {
       "model_id": "f489f3d0a17348a487bac5f21409403d",
       "version_major": 2,
       "version_minor": 0
      },
      "text/plain": [
       "Text(value='', placeholder='Type something!')"
      ]
     },
     "metadata": {},
     "output_type": "display_data"
    },
    {
     "data": {
      "application/vnd.jupyter.widget-view+json": {
       "model_id": "878871f16d7a479d901a7a91057b96ab",
       "version_major": 2,
       "version_minor": 0
      },
      "text/plain": [
       "Label(value=\"Concatenated text = ''\")"
      ]
     },
     "metadata": {},
     "output_type": "display_data"
    },
    {
     "data": {
      "application/vnd.jupyter.widget-view+json": {
       "model_id": "2df021d7878f4059a43575f96cace7af",
       "version_major": 2,
       "version_minor": 0
      },
      "text/plain": [
       "Label(value=\"Text hasn't been changed yet\")"
      ]
     },
     "metadata": {},
     "output_type": "display_data"
    }
   ],
   "source": [
    "# You can also observe more than one widget for a single function. \n",
    "# The change object will always refer to the widget that was changed, \n",
    "# which in the example below could be either of the text widgets.\n",
    "\n",
    "text1 = wg.Text(placeholder=\"Type something!\")\n",
    "text2 = wg.Text(placeholder=\"Type something!\")\n",
    "label_concat = wg.Label(\"Concatenated text = ''\")\n",
    "label_change = wg.Label(\"Text hasn't been changed yet\")\n",
    "\n",
    "def handle_change(change):\n",
    "    label_concat.value = f\"Concatenated text = '{text1.value + text2.value}'\"\n",
    "    label_change.value = f\"Text changed from '{change['old']}' to '{change['new']}'\"\n",
    "    \n",
    "for text_widget in [text1, text2]:\n",
    "    text_widget.observe(handle_change, names='value')\n",
    "    \n",
    "display(text1, text2, label_concat, label_change)\n"
   ]
  },
  {
   "cell_type": "markdown",
   "metadata": {},
   "source": [
    "### Events"
   ]
  },
  {
   "cell_type": "code",
   "execution_count": 67,
   "metadata": {},
   "outputs": [
    {
     "data": {
      "application/vnd.jupyter.widget-view+json": {
       "model_id": "cb4ac3d4a8434f86a944b33d9e3e1cb9",
       "version_major": 2,
       "version_minor": 0
      },
      "text/plain": [
       "Button(description='Click to change style!', layout=Layout(width='max-content'), style=ButtonStyle())"
      ]
     },
     "metadata": {},
     "output_type": "display_data"
    },
    {
     "name": "stdout",
     "output_type": "stream",
     "text": [
      "Button clicked 1 times.\n",
      "Button clicked 2 times.\n",
      "Button clicked 3 times.\n",
      "Button clicked 4 times.\n",
      "Button clicked 5 times.\n"
     ]
    }
   ],
   "source": [
    "button = wg.Button(description=\"Click to change style!\", layout={\"width\": \"max-content\"})\n",
    "display(button)\n",
    "\n",
    "button_style_idx = 0\n",
    "def on_button_clicked(b):\n",
    "    global button_style_idx\n",
    "    button_style_idx += 1\n",
    "    print(f\"Button clicked {button_style_idx} times.\")\n",
    "    b.button_style = [\"success\", \"danger\", \"info\", \"warning\"][button_style_idx % 4]\n",
    "\n",
    "button.on_click(on_button_clicked)\n"
   ]
  },
  {
   "cell_type": "code",
   "execution_count": 68,
   "metadata": {},
   "outputs": [
    {
     "data": {
      "application/vnd.jupyter.widget-view+json": {
       "model_id": "d6c4f51193814674b02b213efc22f834",
       "version_major": 2,
       "version_minor": 0
      },
      "text/plain": [
       "Text(value='', placeholder='Type something, then hit enter!')"
      ]
     },
     "metadata": {},
     "output_type": "display_data"
    },
    {
     "name": "stdout",
     "output_type": "stream",
     "text": [
      "aaaa\n"
     ]
    }
   ],
   "source": [
    "text = wg.Text(placeholder=\"Type something, then hit enter!\")\n",
    "display(text)\n",
    "\n",
    "def on_text_submitted(t):\n",
    "    print(t.value)\n",
    "    t.value = \"\"\n",
    "\n",
    "text.on_submit(on_text_submitted)\n"
   ]
  },
  {
   "cell_type": "code",
   "execution_count": null,
   "metadata": {},
   "outputs": [],
   "source": []
  }
 ],
 "metadata": {
  "kernelspec": {
   "display_name": "torch",
   "language": "python",
   "name": "python3"
  },
  "language_info": {
   "codemirror_mode": {
    "name": "ipython",
    "version": 3
   },
   "file_extension": ".py",
   "mimetype": "text/x-python",
   "name": "python",
   "nbconvert_exporter": "python",
   "pygments_lexer": "ipython3",
   "version": "3.9.19"
  }
 },
 "nbformat": 4,
 "nbformat_minor": 2
}
