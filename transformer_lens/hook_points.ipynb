{
 "cells": [
  {
   "cell_type": "code",
   "execution_count": 1,
   "metadata": {},
   "outputs": [
    {
     "name": "stdout",
     "output_type": "stream",
     "text": [
      "Using renderer: notebook_connected\n",
      "Intel MKL WARNING: Support of Intel(R) Streaming SIMD Extensions 4.2 (Intel(R) SSE4.2) enabled only processors has been deprecated. Intel oneAPI Math Kernel Library 2025.0 will require Intel(R) Advanced Vector Extensions (Intel(R) AVX) instructions.\n",
      "Intel MKL WARNING: Support of Intel(R) Streaming SIMD Extensions 4.2 (Intel(R) SSE4.2) enabled only processors has been deprecated. Intel oneAPI Math Kernel Library 2025.0 will require Intel(R) Advanced Vector Extensions (Intel(R) AVX) instructions.\n"
     ]
    }
   ],
   "source": [
    "import os\n",
    "DEV_MODE = True\n",
    "try:\n",
    "    import google.colab\n",
    "    IN_COLAB = True\n",
    "    print(\"Running as a Colab notebook\")\n",
    "except:\n",
    "    IN_COLAB = False\n",
    "# Install if in Colab\n",
    "if IN_COLAB:\n",
    "    %pip install transformer_lens\n",
    "    %pip install circuitsvis\n",
    "    # Install a faster Node version\n",
    "    !curl -fsSL https://deb.nodesource.com/setup_16.x | sudo -E bash -; sudo apt-get install -y nodejs  # noqa\n",
    "\n",
    "# Hot reload in development mode & not running on the CD\n",
    "if not IN_COLAB:\n",
    "    from IPython import get_ipython\n",
    "    ip = get_ipython()\n",
    "    if not ip.extension_manager.loaded:\n",
    "        ip.extension_manager.load('autoreload')\n",
    "        %autoreload 2\n",
    "        \n",
    "IN_GITHUB = os.getenv(\"GITHUB_ACTIONS\") == \"true\"\n",
    "\n",
    "# change renderer to colab if needed\n",
    "import plotly.io as pio\n",
    "if IN_COLAB or not DEV_MODE:\n",
    "    pio.renderers.default = \"colab\"\n",
    "else:\n",
    "    pio.renderers.default = \"notebook_connected\"\n",
    "    \n",
    "print(f\"Using renderer: {pio.renderers.default}\")\n",
    "\n",
    "# import circuit vis\n",
    "import circuitsvis as cv\n",
    "# Testing that the library works\n",
    "cv.examples.hello(\"Neel\")\n",
    "\n",
    "import warnings\n",
    "warnings.filterwarnings(\"ignore\")\n",
    "\n",
    "# Main imports\n",
    "import torch\n",
    "import torch.nn as nn\n",
    "import einops\n",
    "from fancy_einsum import einsum\n",
    "import tqdm.auto as tqdm\n",
    "import plotly.express as px\n",
    "\n",
    "from jaxtyping import Float\n",
    "from functools import partial\n",
    "\n",
    "# transformer lens stuff\n",
    "import transformer_lens.utils as utils\n",
    "from transformer_lens.hook_points import (\n",
    "    HookPoint,\n",
    ")  # Hooking utilities\n",
    "from transformer_lens import HookedTransformer, FactoredMatrix\n",
    "\n",
    "# set grad to false cuz we dont need to train\n",
    "torch.set_grad_enabled(False)\n",
    "\n",
    "from plot_utils import *\n",
    "\n",
    "device = \"cpu\"\n"
   ]
  },
  {
   "cell_type": "markdown",
   "metadata": {},
   "source": [
    "# How to add hookpoint to own model"
   ]
  },
  {
   "cell_type": "code",
   "execution_count": 3,
   "metadata": {},
   "outputs": [],
   "source": [
    "from transformer_lens.hook_points import HookedRootModule\n",
    "\n",
    "class SquareThenAdd(nn.Module):\n",
    "    def __init__(self, offset):\n",
    "        super().__init__()\n",
    "        self.offset = nn.Parameter(torch.tensor(offset))\n",
    "        self.hook_square = HookPoint()\n",
    "        \n",
    "    def forward(self, x):\n",
    "        square = self.hook_square(x*x)\n",
    "        return self.offset + square\n",
    "    \n",
    "class TwoLayerModel(HookedRootModule):\n",
    "    def __init__(self):\n",
    "        super().__init__()\n",
    "        self.l1 = SquareThenAdd(3.0)\n",
    "        self.l2 = SquareThenAdd(-4.0)\n",
    "        self.hook_in = HookPoint()\n",
    "        self.hook_mid = HookPoint()\n",
    "        self.hook_out = HookPoint()\n",
    "        \n",
    "        # builds internal dict of modules and hooks and gives each a name\n",
    "        super().setup()\n",
    "        \n",
    "    def forward(self, x):\n",
    "        x_in = self.hook_in(x)\n",
    "        x_mid = self.hook_mid(self.l1(x_in))\n",
    "        x_out = self.hook_out(self.l2(x_mid))\n",
    "        return x_out\n",
    "\n",
    "model=TwoLayerModel()\n"
   ]
  },
  {
   "cell_type": "code",
   "execution_count": 4,
   "metadata": {},
   "outputs": [
    {
     "name": "stdout",
     "output_type": "stream",
     "text": [
      "Model output: 780.0\n",
      "Value cached at hook hook_in 5.0\n",
      "Value cached at hook l1.hook_square 25.0\n",
      "Value cached at hook hook_mid 28.0\n",
      "Value cached at hook l2.hook_square 784.0\n",
      "Value cached at hook hook_out 780.0\n"
     ]
    }
   ],
   "source": [
    "\n",
    "out, cache = model.run_with_cache(torch.tensor(5.0))\n",
    "print(\"Model output:\", out.item())\n",
    "for key in cache:\n",
    "    print(f\"Value cached at hook {key}\", cache[key].item())\n"
   ]
  },
  {
   "cell_type": "code",
   "execution_count": 6,
   "metadata": {},
   "outputs": [
    {
     "name": "stdout",
     "output_type": "stream",
     "text": [
      "l2.hook_square\n",
      "Output after intervening on layer2.hook_scaled -4.0\n"
     ]
    }
   ],
   "source": [
    "def set_to_zero_hook(tensor, hook):\n",
    "    print(hook.name)\n",
    "    return torch.tensor(0.0)\n",
    "\n",
    "\n",
    "print(\n",
    "    \"Output after intervening on layer2.hook_scaled\",\n",
    "    model.run_with_hooks(\n",
    "        torch.tensor(5.0), fwd_hooks=[(\"l2.hook_square\", set_to_zero_hook)]\n",
    "    ).item(),\n",
    ")\n"
   ]
  }
 ],
 "metadata": {
  "kernelspec": {
   "display_name": "torch",
   "language": "python",
   "name": "python3"
  },
  "language_info": {
   "codemirror_mode": {
    "name": "ipython",
    "version": 3
   },
   "file_extension": ".py",
   "mimetype": "text/x-python",
   "name": "python",
   "nbconvert_exporter": "python",
   "pygments_lexer": "ipython3",
   "version": "3.9.19"
  }
 },
 "nbformat": 4,
 "nbformat_minor": 2
}
